{
 "cells": [
  {
   "cell_type": "markdown",
   "id": "698faecd",
   "metadata": {},
   "source": [
    "### Import necessary libraries"
   ]
  },
  {
   "cell_type": "code",
   "execution_count": 1,
   "id": "120dbf35",
   "metadata": {},
   "outputs": [],
   "source": [
    "import numpy as np\n",
    "import pandas as pd\n",
    "import autokeras as ak\n",
    "from sklearn.model_selection import train_test_split\n",
    "from sklearn.metrics import confusion_matrix"
   ]
  },
  {
   "cell_type": "markdown",
   "id": "77c22cad",
   "metadata": {},
   "source": [
    "### Load Amazon Review Dataset"
   ]
  },
  {
   "cell_type": "code",
   "execution_count": 2,
   "id": "3bb9872e",
   "metadata": {},
   "outputs": [],
   "source": [
    "# load the dataset\n",
    "data = open('amz_review_data/amz_reviews').read()\n",
    "labels, texts = [], []\n",
    "for i, line in enumerate(data.split(\"\\n\")):\n",
    "    content = line.split()\n",
    "    labels.append(content[0][-1])\n",
    "    texts.append(\" \".join(content[1:]))\n",
    "\n",
    "# create a dataframe using texts and lables\n",
    "data_set = pd.DataFrame()\n",
    "data_set['text'] = texts\n",
    "data_set['label'] = labels"
   ]
  },
  {
   "cell_type": "code",
   "execution_count": 3,
   "id": "22b9596e",
   "metadata": {},
   "outputs": [
    {
     "data": {
      "text/html": [
       "<div>\n",
       "<style scoped>\n",
       "    .dataframe tbody tr th:only-of-type {\n",
       "        vertical-align: middle;\n",
       "    }\n",
       "\n",
       "    .dataframe tbody tr th {\n",
       "        vertical-align: top;\n",
       "    }\n",
       "\n",
       "    .dataframe thead th {\n",
       "        text-align: right;\n",
       "    }\n",
       "</style>\n",
       "<table border=\"1\" class=\"dataframe\">\n",
       "  <thead>\n",
       "    <tr style=\"text-align: right;\">\n",
       "      <th></th>\n",
       "      <th>text</th>\n",
       "      <th>label</th>\n",
       "    </tr>\n",
       "  </thead>\n",
       "  <tbody>\n",
       "    <tr>\n",
       "      <th>0</th>\n",
       "      <td>Stuning even for the non-gamer: This sound tra...</td>\n",
       "      <td>2</td>\n",
       "    </tr>\n",
       "    <tr>\n",
       "      <th>1</th>\n",
       "      <td>The best soundtrack ever to anything.: I'm rea...</td>\n",
       "      <td>2</td>\n",
       "    </tr>\n",
       "    <tr>\n",
       "      <th>2</th>\n",
       "      <td>Amazing!: This soundtrack is my favorite music...</td>\n",
       "      <td>2</td>\n",
       "    </tr>\n",
       "    <tr>\n",
       "      <th>3</th>\n",
       "      <td>Excellent Soundtrack: I truly like this soundt...</td>\n",
       "      <td>2</td>\n",
       "    </tr>\n",
       "    <tr>\n",
       "      <th>4</th>\n",
       "      <td>Remember, Pull Your Jaw Off The Floor After He...</td>\n",
       "      <td>2</td>\n",
       "    </tr>\n",
       "  </tbody>\n",
       "</table>\n",
       "</div>"
      ],
      "text/plain": [
       "                                                text label\n",
       "0  Stuning even for the non-gamer: This sound tra...     2\n",
       "1  The best soundtrack ever to anything.: I'm rea...     2\n",
       "2  Amazing!: This soundtrack is my favorite music...     2\n",
       "3  Excellent Soundtrack: I truly like this soundt...     2\n",
       "4  Remember, Pull Your Jaw Off The Floor After He...     2"
      ]
     },
     "execution_count": 3,
     "metadata": {},
     "output_type": "execute_result"
    }
   ],
   "source": [
    "data_set.head()"
   ]
  },
  {
   "cell_type": "markdown",
   "id": "6ac6c930",
   "metadata": {},
   "source": [
    "### Train Test Split"
   ]
  },
  {
   "cell_type": "code",
   "execution_count": 4,
   "id": "d05c3392",
   "metadata": {},
   "outputs": [
    {
     "name": "stdout",
     "output_type": "stream",
     "text": [
      "(8000,) (8000,) (2000,) (2000,)\n"
     ]
    }
   ],
   "source": [
    "classes = list(set(labels))\n",
    "\n",
    "x_train, x_test, y_train, y_test = train_test_split(data_set['text'], data_set['label'], test_size=0.2)\n",
    "\n",
    "x_train = np.array(x_train)\n",
    "x_test = np.array(x_test)\n",
    "y_train = np.array(y_train)\n",
    "y_test = np.array(y_test)\n",
    "\n",
    "print(x_train.shape, y_train.shape, x_test.shape, y_test.shape)  "
   ]
  },
  {
   "cell_type": "markdown",
   "id": "d51c31bf",
   "metadata": {},
   "source": [
    "### Fit and predict"
   ]
  },
  {
   "cell_type": "code",
   "execution_count": 5,
   "id": "f133d2a3",
   "metadata": {},
   "outputs": [
    {
     "name": "stdout",
     "output_type": "stream",
     "text": [
      "Trial 1 Complete [00h 00m 25s]\n",
      "val_loss: 0.32315245270729065\n",
      "\n",
      "Best val_loss So Far: 0.32315245270729065\n",
      "Total elapsed time: 00h 00m 25s\n",
      "INFO:tensorflow:Oracle triggered exit\n",
      "Epoch 1/2\n",
      "250/250 [==============================] - 15s 57ms/step - loss: 0.5743 - accuracy: 0.6722\n",
      "Epoch 2/2\n",
      "250/250 [==============================] - 15s 59ms/step - loss: 0.2991 - accuracy: 0.8721\n",
      "INFO:tensorflow:Assets written to: ./text_classifier/best_model/assets\n",
      "63/63 [==============================] - 1s 12ms/step\n"
     ]
    }
   ],
   "source": [
    "# Initialize the automl text classifier.\n",
    "autoclf = ak.TextClassifier(\n",
    "    overwrite=True, max_trials=1\n",
    ")\n",
    "\n",
    "# Fit the classifier with training data.\n",
    "autoclf.fit(x_train, y_train, epochs=2)\n",
    "\n",
    "# Predict lables using the best model.\n",
    "predicted_y = autoclf.predict(x_test)"
   ]
  },
  {
   "cell_type": "markdown",
   "id": "9ac0fd95",
   "metadata": {},
   "source": [
    "### Compute Metrics"
   ]
  },
  {
   "cell_type": "code",
   "execution_count": 6,
   "id": "6660d6d2",
   "metadata": {},
   "outputs": [
    {
     "name": "stdout",
     "output_type": "stream",
     "text": [
      "Precision: 0.87 and Recall: 0.87\n"
     ]
    }
   ],
   "source": [
    "tn, fp, fn, tp=confusion_matrix(y_test, predicted_y).ravel()\n",
    "print(\"Precision: %.2f and Recall: %.2f\"% (tp/(tp+fp), tp/(tp+fn)))"
   ]
  }
 ],
 "metadata": {
  "kernelspec": {
   "display_name": "Python 3",
   "language": "python",
   "name": "python3"
  },
  "language_info": {
   "codemirror_mode": {
    "name": "ipython",
    "version": 3
   },
   "file_extension": ".py",
   "mimetype": "text/x-python",
   "name": "python",
   "nbconvert_exporter": "python",
   "pygments_lexer": "ipython3",
   "version": "3.8.8"
  }
 },
 "nbformat": 4,
 "nbformat_minor": 5
}
